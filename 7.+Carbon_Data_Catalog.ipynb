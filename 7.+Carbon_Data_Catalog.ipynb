{
 "cells": [
  {
   "cell_type": "code",
   "execution_count": 1,
   "metadata": {
    "collapsed": true
   },
   "outputs": [],
   "source": [
    "from os import environ\n",
    "\n",
    "environ['AZURE_SPARK'] = '1'\n",
    "environ['SPARK_MAJOR_VERSION'] = '2'\n",
    "environ['HDP_VERSION'] = '2.6.5.8-7'\n",
    "environ['JAVA_HOME'] = '/usr/lib/jvm/java-8-openjdk-amd64'\n",
    "environ['SPARK_HOME'] = '/usr/hdp/current/spark2-client'\n",
    "environ['HADOOP_HOME'] = '/usr/hdp/2.6.5.8-7/hadoop'\n",
    "environ['HADOOP_CONF_DIR'] = '/etc/hadoop/conf'\n",
    "environ['SPARK_CONF_DIR'] = '/usr/hdp/current/spark2-client/conf'\n",
    "environ['PYSPARK_PYTHON'] = '/anaconda/envs/py35/bin/python'\n",
    "environ[\n",
    "    'SPARK_DIST_CLASSPATH'] = ':/usr/hdp/current/spark2-client/jars/*:/usr/lib/hdinsight-datalake/*:/usr/hdp/current/spark_llap/*:/usr/hdp/current/spark2-client/conf:'\n",
    "environ[\n",
    "    'LD_LIBRARY_PATH'] = '/usr/hdp/current/hadoop-client/lib/native:/usr/hdp/current/hadoop-client/lib/native/Linux-amd64-64'\n",
    "environ['_HADOOP_LZO_JAR'] = '/usr/hdp/2.6.5.8-7/hadoop/lib/hadoop-lzo-0.6.0.2.6.5.8-7.jar'\n",
    "\n",
    "import findspark\n",
    "findspark.init()"
   ]
  },
  {
   "cell_type": "code",
   "execution_count": 1,
   "metadata": {
    "collapsed": true
   },
   "outputs": [],
   "source": [
    "from carbonai.config import load_config\n",
    "from carbonai.io import DataCatalog\n",
    "import os\n",
    "\n",
    "os.chdir('/home/pycharm_user/pyCharm/project-roman-carbon/src/python/project_roman_carbon')"
   ]
  },
  {
   "cell_type": "code",
   "execution_count": 3,
   "metadata": {
    "collapsed": true
   },
   "outputs": [],
   "source": [
    "proj_dir = '/home/pycharm_user/pyCharm/project-roman-carbon'\n",
    "conf = load_config(os.path.join(proj_dir, 'conf'))\n",
    "full_catalog = {**conf['catalog_raw'], **conf['catalog_int'], **conf['catalog_prm'], **conf['catalog_fea'],\n",
    "                    **conf['catalog_mst']}\n",
    "\n",
    "io = DataCatalog.from_config(full_catalog, conf.get('credentials'))\n",
    "parameters = conf.get('parameters', {})"
   ]
  },
  {
   "cell_type": "code",
   "execution_count": 4,
   "metadata": {},
   "outputs": [
    {
     "data": {
      "text/plain": [
       "['raw_otherbanks_financial',\n",
       " 'raw_customer',\n",
       " 'prm_customer_channel',\n",
       " 'raw_nba_v1',\n",
       " 'raw_rm_scorecards',\n",
       " 'prm_crm_phone_call',\n",
       " 'fea_crm_business_review',\n",
       " 'raw_crm_sector',\n",
       " 'fea_transaction_var_sd',\n",
       " 'raw_facility_profitability',\n",
       " 'raw_sales_rm_rbsif',\n",
       " 'raw_otherbanks_lookup',\n",
       " 'prm_product_library',\n",
       " 'prm_crm_drawdown',\n",
       " 'raw_transactions_nwb_v1',\n",
       " 'raw_gifts_expenses',\n",
       " 'prm_crm_email',\n",
       " 'fea_crm_in_person_meeting',\n",
       " 'raw_crm_product_group',\n",
       " 'int_crm_rm_2017_2018',\n",
       " 'fea_otherbanks_financial',\n",
       " 'fea_gift_and_entertainment',\n",
       " 'prm_customer',\n",
       " 'mst_master_table',\n",
       " 'raw_transactions_nwb',\n",
       " 'raw_crm_fax',\n",
       " 'fea_hr_rm_portfolio_changes',\n",
       " 'raw_crm_phone_call',\n",
       " 'prm_sales_rm_lombard_meeting',\n",
       " 'prm_hr',\n",
       " 'raw_transactions',\n",
       " 'prm_product_jan_18',\n",
       " 'raw_product_nwb',\n",
       " 'raw_complaints_case',\n",
       " 'fea_crm_cust_phone_call_completed',\n",
       " 'raw_risk_indicator',\n",
       " 'raw_crm_complaint',\n",
       " 'prm_customer_segmentation',\n",
       " 'fea_hr_brg',\n",
       " 'raw_customer_lookup_old',\n",
       " 'prm_crm_letter',\n",
       " 'prm_crm_activity_party',\n",
       " 'prm_nba',\n",
       " 'raw_customer_location',\n",
       " 'prm_otherbankss_characterstics',\n",
       " 'prm_crm_task',\n",
       " 'raw_crm_reference',\n",
       " 'fea_crm_crm_deal',\n",
       " 'raw_travel_expenses',\n",
       " 'raw_calendar_full',\n",
       " 'prm_crm_meeting',\n",
       " 'prm_otherbankss_email',\n",
       " 'fea_customer_product_holdings_current',\n",
       " 'prm_crm_customer',\n",
       " 'raw_nba',\n",
       " 'raw_dataset1',\n",
       " 'raw_tools_usage',\n",
       " 'raw_travel_and_expense',\n",
       " 'raw_crm_crm_deal',\n",
       " 'fea_calendar_full',\n",
       " 'prm_crm_cin',\n",
       " 'prm_crm_rm',\n",
       " 'raw_product_rbs',\n",
       " 'prm_complaints_issue',\n",
       " 'fea_sales_rm_lombard',\n",
       " 'prm_crm_product',\n",
       " 'prm_sales_rm_lombard_nb',\n",
       " 'prm_crm_business_review',\n",
       " 'fea_customer_base',\n",
       " 'fea_crm_customer_base_link',\n",
       " 'raw_orgmodel',\n",
       " 'fea_calendar',\n",
       " 'raw_transactions_rbs_v2',\n",
       " 'raw_sales_rm',\n",
       " 'raw_product_jan_18',\n",
       " 'raw_hr',\n",
       " 'prm_gift_and_entertainment',\n",
       " 'prm_sales_rm_ts',\n",
       " 'raw_crm_letter',\n",
       " 'raw_crm_rm_2015_2016',\n",
       " 'raw_crm',\n",
       " 'prm_product',\n",
       " 'raw_crm_geography',\n",
       " 'fea_crm_all_meeting',\n",
       " 'prm_crm_complaint',\n",
       " 'prm_customer_relationship',\n",
       " 'raw_sales_rm_loombard_nb',\n",
       " 'raw_sales_rm_ts',\n",
       " 'raw_otherbanks_contacts',\n",
       " 'raw_gift_and_entertainment',\n",
       " 'fea_complaints',\n",
       " 'raw_customer_lookup',\n",
       " 'prm_transactions',\n",
       " 'fea_transactions_var_sd',\n",
       " 'raw_product_library',\n",
       " 'raw_complaints_issue',\n",
       " 'prm_customer_product_holdings',\n",
       " 'prm_sales_rm_rbsif',\n",
       " 'prm_crm_product_group',\n",
       " 'prm_crm_purpose',\n",
       " 'raw_transactions_nwb_v2',\n",
       " 'raw_crm_activity_party',\n",
       " 'fea_sales_rm',\n",
       " 'raw_sales_rm_loombard_meeting',\n",
       " 'fea_crm_reference',\n",
       " 'prm_hr_rm_portfolio_changes',\n",
       " 'raw_customer_segmentation',\n",
       " 'raw_otherbanks_characteristics',\n",
       " 'raw_crm_business_review',\n",
       " 'raw_otherbanks_email',\n",
       " 'fea_nba',\n",
       " 'prm_crm_rm_2015_2016',\n",
       " 'fea_hr',\n",
       " 'fea_transactions',\n",
       " 'prm_crm_sector',\n",
       " 'raw_hr_rm_portfolio_changes',\n",
       " 'fea_crm_all_channel',\n",
       " 'prm_facility_profitability',\n",
       " 'raw_customer_relationship',\n",
       " 'raw_crm_cin',\n",
       " 'prm_lead',\n",
       " 'fea_crm_email',\n",
       " 'raw_crm_purpose',\n",
       " 'raw_crm_customer',\n",
       " 'prm_travel_and_expens',\n",
       " 'raw_hr_learning',\n",
       " 'raw_risk_indicators',\n",
       " 'fea_sales_rm_lombard_nb',\n",
       " 'raw_crm_email',\n",
       " 'fea_customer_current',\n",
       " 'prm_crm_fax',\n",
       " 'raw_product_breakdown',\n",
       " 'raw_crm_user',\n",
       " 'raw_customer_all',\n",
       " 'raw_customer_channel',\n",
       " 'raw_crm_task',\n",
       " 'prm_customer_lookup',\n",
       " 'fea_crm_rm_time_share',\n",
       " 'prm_otherbankss_contacts',\n",
       " 'prm_crm_crm_deal',\n",
       " 'raw_uk_postcode',\n",
       " 'int_crm_rm_2015_2016',\n",
       " 'prm_otherbanks_financial',\n",
       " 'raw_customer_lookup_new',\n",
       " 'raw_crm_product',\n",
       " 'raw_customer_segmentation_LCS',\n",
       " 'raw_lead',\n",
       " 'raw_customer_segmentation_old',\n",
       " 'prm_crm_geography',\n",
       " 'raw_customer_product_holdings',\n",
       " 'raw_crm_meeting',\n",
       " 'raw_crm_drawdown',\n",
       " 'raw_crm_rm_2017_2018',\n",
       " 'prm_orgmodel',\n",
       " 'fea_crm_rm_phone_call_completed',\n",
       " 'raw_transactions_rbs_v1',\n",
       " 'fea_customer_value',\n",
       " 'raw_calendar']"
      ]
     },
     "execution_count": 4,
     "metadata": {},
     "output_type": "execute_result"
    }
   ],
   "source": [
    "io.list()"
   ]
  },
  {
   "cell_type": "code",
   "execution_count": 5,
   "metadata": {
    "collapsed": true
   },
   "outputs": [],
   "source": [
    "df = io.load(\"fea_customer_base\")"
   ]
  },
  {
   "cell_type": "code",
   "execution_count": 6,
   "metadata": {},
   "outputs": [
    {
     "name": "stdout",
     "output_type": "stream",
     "text": [
      "+----+---+-------------------+------------------+--------------+-------------+----+------------------+-------------------+------------------------+\n",
      "|pcin|cin|pcin_portfolio_code|cin_portfolio_code|pcin_open_date|cin_open_date|tier|net_promoter_score|pcin_equal_cin_flag|first_customer_open_date|\n",
      "+----+---+-------------------+------------------+--------------+-------------+----+------------------+-------------------+------------------------+\n",
      "+----+---+-------------------+------------------+--------------+-------------+----+------------------+-------------------+------------------------+\n",
      "\n"
     ]
    }
   ],
   "source": [
    "df.show(10)"
   ]
  },
  {
   "cell_type": "code",
   "execution_count": 7,
   "metadata": {},
   "outputs": [
    {
     "name": "stdout",
     "output_type": "stream",
     "text": [
      "+-------------+-------------+------------+\n",
      "|     mask_CIN|    mask_pcin|PROCESS_FLAG|\n",
      "+-------------+-------------+------------+\n",
      "| 871256871453| 907684664322|           Y|\n",
      "| 974447802796| 974447802796|           Y|\n",
      "| 916181263884|1205999039614|           Y|\n",
      "|1509347031109|1509347031109|           Y|\n",
      "|1155055684407|1155055684407|           Y|\n",
      "|1330856643362|1330856643362|           Y|\n",
      "| 968354858444| 968354858444|           Y|\n",
      "| 912173237894| 912173237894|           Y|\n",
      "|1354486210091|1354486210091|           Y|\n",
      "|1578102521079|1578251234991|           Y|\n",
      "+-------------+-------------+------------+\n",
      "only showing top 10 rows\n",
      "\n"
     ]
    }
   ],
   "source": [
    "prm_customer_lookup = io.load('prm_customer_lookup')\n",
    "prm_customer_lookup.show(10)"
   ]
  },
  {
   "cell_type": "code",
   "execution_count": 8,
   "metadata": {
    "collapsed": true
   },
   "outputs": [],
   "source": [
    "prm_customer = io.load('prm_customer')"
   ]
  },
  {
   "cell_type": "code",
   "execution_count": 13,
   "metadata": {},
   "outputs": [
    {
     "name": "stdout",
     "output_type": "stream",
     "text": [
      "+-------------+-----------+----------+-------------+------------+------------+-----------------+--------+---------+-----------+----------------+----------------+--------------+------------------+------------------+-----+----------+------------+\n",
      "|  mask_custid|mask_pfolio|  ref_date|CUSTOMER_TYPE|BOE_IND_CODE|BOE_INS_CODE|CURR_CREDIT_GRADE|HNWI_IND|FINPIN_40|DATE_CLOSED|NO_PRODUCTS_HELD|NO_ACCOUNTS_CONN|ACTIVE_SEGMENT|SECURITY_HELD_CODE|CUSTOMER_OPEN_DATE|brand|LINK_LEVEL|PROCESS_FLAG|\n",
      "+-------------+-----------+----------+-------------+------------+------------+-----------------+--------+---------+-----------+----------------+----------------+--------------+------------------+------------------+-----+----------+------------+\n",
      "| 911563456790|          0|2018-01-01|            N|        null|        null|             null|    null|        0| 1996-12-31|               0|               0|             W|              null|              null|  RBS|      PCIN|           Y|\n",
      "| 899802889343|          0|2018-01-01|            N|        null|        null|               D3|    null|        0| 2099-06-30|               0|               0|             B|              null|        1993-01-29|  RBS|      PCIN|           Y|\n",
      "| 968640778079|   26378127|2018-01-01|            N|        null|        null|               D1|    null|        0| 2099-06-30|               0|               0|             B|              null|        1973-06-29|  NWB|      PCIN|           Y|\n",
      "|1389638656702|   16633890|2018-01-01|            N|         UAD|          HA|             null|    null|        0| 2099-06-30|               1|               1|             B|              null|        2008-07-15|  RBS|      PCIN|           Y|\n",
      "| 897452384985|          0|2018-01-01|            N|        null|        null|               D2|    null|        0| 1996-07-31|               0|               0|          null|              null|        1992-11-30|  RBS|      PCIN|           Y|\n",
      "|1584674795915|   23162394|2018-01-01|            N|         UPE|          HA|               D3|    null|        0| 2099-06-30|               1|               1|             B|              null|        2017-02-02|  RBS|      PCIN|           Y|\n",
      "|1390858217201|   26378127|2018-01-01|            N|        null|        null|               D3|    null|        0| 2099-06-30|               0|               0|             B|              null|        2008-07-31|  NWB|      PCIN|           Y|\n",
      "| 866392657252|    9507973|2018-01-01|            N|        null|        null|               D3|    null|        0| 2099-06-30|               0|               0|             B|              null|        1992-11-30|  RBS|      PCIN|           Y|\n",
      "|1344217978128|   25823749|2018-01-01|            N|        null|        null|               D2|    null|        0| 2099-06-30|               0|               0|             B|              null|        2006-11-23|  RBS|      PCIN|           Y|\n",
      "| 898239886204|   25819530|2018-01-01|            N|        null|        null|               D2|    null|        0| 2099-06-30|               0|               0|             B|              null|        1992-11-30|  RBS|      PCIN|           Y|\n",
      "+-------------+-----------+----------+-------------+------------+------------+-----------------+--------+---------+-----------+----------------+----------------+--------------+------------------+------------------+-----+----------+------------+\n",
      "only showing top 10 rows\n",
      "\n"
     ]
    }
   ],
   "source": [
    "prm_customer.show(10)"
   ]
  },
  {
   "cell_type": "code",
   "execution_count": 14,
   "metadata": {
    "collapsed": true
   },
   "outputs": [],
   "source": [
    "prm_customer_segmentation = io.load('prm_customer_segmentation')"
   ]
  },
  {
   "cell_type": "code",
   "execution_count": 15,
   "metadata": {},
   "outputs": [
    {
     "name": "stdout",
     "output_type": "stream",
     "text": [
      "+-------------+-------------------+----+-------------+-------------------+----------------------+------------+----+-----------+------------+-------------+-----------------------+-------------------+-----------------+----------------------+--------------------+-----------+---------------+-------------+-------------+-----------+--------------------+-------+------------+\n",
      "|    mask_pcin|mask_portfolio_code|tier|business_area|l1_income_12M_Total|Asset_internal_12M_avg|    Turnover|NPSn|   pcin_RWA|    pcin_PAT|     pcin_TCE|pcin_post_tax_ec_profit|product_eligibility|dealogic_dcm_flag|dealogic_syn_loan_flag|new_high_growth_flag|stress_flag|new_joiner_flag|inactive_flag|shanghai_flag|citrus_flag|         spec_sector|BOECODE|PROCESS_FLAG|\n",
      "+-------------+-------------------+----+-------------+-------------------+----------------------+------------+----+-----------+------------+-------------+-----------------------+-------------------+-----------------+----------------------+--------------------+-----------+---------------+-------------+-------------+-----------+--------------------+-------+------------+\n",
      "| 907684664322|            8932499|   2|    C&CC - RD|          101419.97|            3781081.21|   5910180.0|null|714114.8853|3247.0261252|   4280636.48|            2462.376632|         RESTRICTED|                0|                     0|                   0|          0|              0|            0|            0|          0|         Agriculture|    SBU|           Y|\n",
      "| 974447802796|           11630138|   4|   C&CC - SRM|            2760.22|              13758.62|   1237123.0|null|        0.0| 44.18439556|      30000.0|            44.18439556|          UNIVERSAL|                0|                     0|                   0|          1|              0|            0|            0|          0|      Other Services|    GDF|           Y|\n",
      "|1205999039614|           17589075|   3|     REF - SH|           15586.13|              674973.8|     67933.0|  10|  592748.84|352.05386126|     653984.0|           -235.0108254|          UNIVERSAL|                0|                     0|                   0|          0|              0|            0|            1|          0|                 REF|    UBN|           Y|\n",
      "|1509347031109|           10631919|   3|    C&CC - RD|            7478.27|             186872.53|     21400.0|null|  536963.21|263.55973841|     185887.0|           -242.9224541|          UNIVERSAL|                0|                     0|                   0|          0|              0|            0|            0|          0|          Healthcare|    XBA|           Y|\n",
      "| 971475956191|           25066857|   2|   C&CC - SRM|            8184.62|               2073.34|   4840008.0|null|        0.0|367.38218288|          0.0|           367.38218288|         RESTRICTED|                0|                     0|                   0|          0|              0|            0|            0|          0|       Manufacturing|    JPA|           Y|\n",
      "|1330856643362|            8641387|   3|          REF|           13267.54|              88747.24|   472268.63|null|        0.0|2134.0362564|          0.0|           2134.0362564|          UNIVERSAL|                0|                     0|                   0|          0|              0|            0|            1|          0|                 REF|    UAI|           Y|\n",
      "| 968354858444|           11916187|   3|   C&CC - SRM|            9476.83|             176475.88|   1291041.0|null|    4004.41|125.18179698|    146627.54|           121.35350448|          UNIVERSAL|                0|                     0|                   0|          0|              0|            0|            0|          0|  Retail & Wholesale|    QKN|           Y|\n",
      "| 912173237894|           17584856|   3|   C&CC - SRM|           21610.36|              -85751.0|   1243490.0|   9|    4977.27|470.56932596|      75100.0|           465.57399512|          UNIVERSAL|                0|                     0|                   1|          0|              0|            0|            0|          0|Property - Buildi...|    QJN|           Y|\n",
      "|1354486210091|           22128735|   3|   C&CC - SRM|           13347.71|             395780.97|    103000.0|null|    19372.4|373.14821168|     393949.0|           350.49251168|          UNIVERSAL|                0|                     0|                   0|          1|              0|            0|            0|          0|         Agriculture|    AAA|           Y|\n",
      "|1578251234991|           18991475|   3|   C&CC - SRM|            2911.23|              44858.08|   3673752.0|null|  151091.31|415.06684126|     289398.0|           271.61864043|          UNIVERSAL|                0|                     0|                   0|          0|              1|            0|            0|          0|Property - Buildi...|    PDF|           Y|\n",
      "| 932054288538|           16152922|   3|   C&CC - SRM|            3756.81|             178003.27|   151461.38|null|  150466.35|72.949962076|     165655.0|           -76.12319209|          UNIVERSAL|                0|                     0|                   0|          0|              0|            0|            0|          0|                 REF|    UAN|           Y|\n",
      "|1231079217170|           11326368|   2|    C&CC - RD|          406391.17|         1.505235277E7|   8604280.0|null|7747175.138|11979.355722|1.745157834E7|           4109.5939986|         RESTRICTED|                0|                     0|                   0|          0|              0|            0|            0|          0|           Transport|    SBU|           Y|\n",
      "| 982512273897|           11674859|   2|   C&CC - SRM|           11569.29|             197077.97|1.11234652E9|null|   11405.27|351.18827887|     187967.0|            340.3923647|         RESTRICTED|                0|                     0|                   0|          0|              0|            0|            0|          0|  Retail & Wholesale|    QMA|           Y|\n",
      "|1420136667143|           17645610|   2|   C&CC - SRM|           34774.94|            1574580.64|  3.047749E7|null|   52684.88| 1075.022698|    1475752.0|           1023.2451414|         RESTRICTED|                0|                     0|                   0|          0|              0|            0|            0|          0|         Agriculture|    QGA|           Y|\n",
      "|1509899793982|           11823368|   2|    C&CC - RD|           15327.26|              83938.68| 1.4456328E7|null|    1422.55|364.16030719|      73004.0|           362.77696969|         RESTRICTED|                0|                     0|                   0|          0|              0|            0|            0|          0|                 TMT|    UIA|           Y|\n",
      "| 977534014693|           18597419|   2|  C&CC - Corp|            1329.92|                202.54|  3.703105E8|null|        0.0|-32.57214187|          0.0|           -32.57214187|         RESTRICTED|                0|                     0|                   0|          0|              0|            0|            0|          0|Property - Buildi...|    PCN|           Y|\n",
      "| 969820032587|           16277805|   3|    C&CC - RD|           21832.59|            1006998.91|    656546.0|null|   41856.86|351.88608738|     550168.0|           312.73404904|          UNIVERSAL|                0|                     0|                   0|          0|              0|            0|            0|          0|          Healthcare|    XAH|           Y|\n",
      "| 978361606669|           11372778|   2|   C&CC - SRM|           23569.93|             808043.98|   3741250.0|null|   170815.2|642.58714529|     764695.0|           475.94096196|         RESTRICTED|                0|                     0|                   0|          0|              0|            0|            0|          0|      Other Services|    UWG|           Y|\n",
      "|1490584094839|           14477973|   2|   C&CC - SRM|          128357.41|              74067.63| 3.6433633E7|null|    27422.0|4356.9112408|   1214885.47|           4330.4744074|         RESTRICTED|                0|                     0|                   0|          0|              0|            0|            0|          0|      Other Services|    UTA|           Y|\n",
      "| 980731717824|           15456784|   3|     REF - SH|            5025.89|              152554.0|   1681622.0|null|   97561.75|207.04134315|     240727.0|           112.58098899|          UNIVERSAL|                0|                     0|                   0|          1|              0|            0|            1|          0|Property - Buildi...|    PBG|           Y|\n",
      "+-------------+-------------------+----+-------------+-------------------+----------------------+------------+----+-----------+------------+-------------+-----------------------+-------------------+-----------------+----------------------+--------------------+-----------+---------------+-------------+-------------+-----------+--------------------+-------+------------+\n",
      "only showing top 20 rows\n",
      "\n"
     ]
    }
   ],
   "source": [
    "prm_customer_segmentation.show()"
   ]
  },
  {
   "cell_type": "code",
   "execution_count": 9,
   "metadata": {},
   "outputs": [
    {
     "data": {
      "text/plain": [
       "5003001"
      ]
     },
     "execution_count": 9,
     "metadata": {},
     "output_type": "execute_result"
    }
   ],
   "source": [
    "prm_customer.count()"
   ]
  },
  {
   "cell_type": "code",
   "execution_count": null,
   "metadata": {
    "collapsed": true
   },
   "outputs": [],
   "source": []
  }
 ],
 "metadata": {
  "kernelspec": {
   "display_name": "Python 3",
   "language": "python",
   "name": "python3"
  },
  "language_info": {
   "codemirror_mode": {
    "name": "ipython",
    "version": 3
   },
   "file_extension": ".py",
   "mimetype": "text/x-python",
   "name": "python",
   "nbconvert_exporter": "python",
   "pygments_lexer": "ipython3",
   "version": "3.5.2"
  }
 },
 "nbformat": 4,
 "nbformat_minor": 2
}
