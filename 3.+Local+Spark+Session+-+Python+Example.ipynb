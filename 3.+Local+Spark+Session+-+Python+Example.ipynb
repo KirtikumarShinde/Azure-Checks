{
 "cells": [
  {
   "cell_type": "code",
   "execution_count": 2,
   "metadata": {
    "collapsed": true
   },
   "outputs": [],
   "source": [
    "import os\n",
    "os.environ['SPARK_HOME'] = '/dsvm/tools/spark/spark-2.2.0'"
   ]
  },
  {
   "cell_type": "code",
   "execution_count": 3,
   "metadata": {
    "collapsed": true
   },
   "outputs": [],
   "source": [
    "import findspark\n",
    "findspark.init()\n",
    "from pyspark.sql import SparkSession\n",
    "\n",
    "spark = SparkSession.builder \\\n",
    "\t.appName(\"test\") \\\n",
    "\t.master(\"local[*]\") \\\n",
    "\t.config(\"fs.azure.account.key.qbsecstorage.blob.core.windows.net\", #\n",
    "            \"3CUkUfpScv2RctZKth4t/iZPPk6DJa2935jZtyjpLWJSjnNm8/dDfgWnR+5d0w9RU2AIucoUAiU1ZIFWXzbkVw==\") \\\n",
    "\t.getOrCreate()"
   ]
  },
  {
   "cell_type": "code",
   "execution_count": 4,
   "metadata": {
    "collapsed": true
   },
   "outputs": [],
   "source": [
    "df = spark.read.parquet(\"wasb://qbdata@qbsecstorage.blob.core.windows.net/data/03_primary/customer/parquet/201804041057/\")"
   ]
  },
  {
   "cell_type": "code",
   "execution_count": 5,
   "metadata": {},
   "outputs": [
    {
     "name": "stdout",
     "output_type": "stream",
     "text": [
      "root\n",
      " |-- mask_custid: long (nullable = true)\n",
      " |-- mask_pfolio: integer (nullable = true)\n",
      " |-- ref_date: date (nullable = true)\n",
      " |-- CUSTOMER_TYPE: string (nullable = true)\n",
      " |-- BOE_IND_CODE: string (nullable = true)\n",
      " |-- BOE_INS_CODE: string (nullable = true)\n",
      " |-- CURR_CREDIT_GRADE: string (nullable = true)\n",
      " |-- HNWI_IND: string (nullable = true)\n",
      " |-- FINPIN_40: integer (nullable = true)\n",
      " |-- DATE_CLOSED: date (nullable = true)\n",
      " |-- NO_PRODUCTS_HELD: integer (nullable = true)\n",
      " |-- NO_ACCOUNTS_CONN: integer (nullable = true)\n",
      " |-- ACTIVE_SEGMENT: string (nullable = true)\n",
      " |-- SECURITY_HELD_CODE: string (nullable = true)\n",
      " |-- CUSTOMER_OPEN_DATE: date (nullable = true)\n",
      " |-- brand: string (nullable = true)\n",
      " |-- LINK_LEVEL: string (nullable = true)\n",
      " |-- PROCESS_FLAG: string (nullable = true)\n",
      "\n"
     ]
    }
   ],
   "source": [
    "df.printSchema()"
   ]
  },
  {
   "cell_type": "code",
   "execution_count": 7,
   "metadata": {},
   "outputs": [
    {
     "name": "stdout",
     "output_type": "stream",
     "text": [
      "Python 2.7.5\r\n"
     ]
    }
   ],
   "source": [
    "!python --version"
   ]
  },
  {
   "cell_type": "code",
   "execution_count": null,
   "metadata": {
    "collapsed": true
   },
   "outputs": [],
   "source": []
  }
 ],
 "metadata": {
  "kernelspec": {
   "display_name": "Python 3",
   "language": "python",
   "name": "python3"
  },
  "language_info": {
   "codemirror_mode": {
    "name": "ipython",
    "version": 3
   },
   "file_extension": ".py",
   "mimetype": "text/x-python",
   "name": "python",
   "nbconvert_exporter": "python",
   "pygments_lexer": "ipython3",
   "version": "3.5.2"
  }
 },
 "nbformat": 4,
 "nbformat_minor": 2
}
