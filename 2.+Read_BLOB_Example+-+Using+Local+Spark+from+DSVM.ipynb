{
 "cells": [
  {
   "cell_type": "code",
   "execution_count": 1,
   "metadata": {f
    "collapsed": true
   },
   "outputs": [],
   "source": [
    "def get_spark_blob(stg_accnt_nm, stg_key):\n",
    "    return SparkSession.builder.appName(\"test\").master(\"local[*]\").config(\n",
    "        'fs.azure.account.key.' + stg_accnt_nm + '.blob.core.windows.net', stg_key) \\\n",
    "        .config(\"fs.wasb.impl\", \"org.apache.hadoop.fs.azure.NativeAzureFileSystem\").getOrCreate()"
   ]
  },
  {
   "cell_type": "code",
   "execution_count": 2,
   "metadata": {
    "collapsed": true
   },
   "outputs": [],
   "source": [
    "account_name = 'XYZ'\n",
    "account_key = 'AccessKey'"
   ]
  },
  {
   "cell_type": "code",
   "execution_count": 5,
   "metadata": {},
   "outputs": [
    {
     "data": {
      "text/plain": [
       "DataFrame[REF_YEAR: string, mask_portfolio_code: string, Title: string, Formal_Forename: string, Preferred_Forename: string, Corporate_Title: string, Middle_Names: string, Surname: string, Business_Title: string, Position_Number: string, Position_Description: string, Work_Email_Address: string, Snapshot_Month: string, HR_Department_Code: string, Set_ID: string, Division: string, SubDivision1: string, SubDivision2: string, SubDivision3: string, SubDivision4: string, SubDivision5: string, SubDivision6: string, SubDivision7: string, Cost_Centre: string, Report_Level: string, Class: string, Cost_Centre_Name: string, Global_Cost_Centre: string, Legal_Entity: string, RBS_Structural_Region: string, Work_Location_Floor: string, Work_Location_Address1: string, Work_Location__Address2: string, Work_Location_Address3: string, Work_Location_Address4: string, Work_Location_Sub_Country: string, Work_Location_-_Country: string, Work_Location_-_Depot: string, Work_Location_Code: string, Work_Location_-_Post_Code: string, Age: string, Date_of_Birth: string, Gender_Code: string, Job_Code: string, Accredited_Service_Date: string, Job_Entry_Date: string, Contract_End_Date: string, Age_Band_Code: string, Cont_Service_(Yrs): string, Cont_Service_Band: string, Manager_Level: string, FullorPart_Time: string, Permanent_or_FTC: string, ActiveorInActive: string, Peoplesoft_Company_Code: string, Peoplesoft_Company_Description: string, Line_Manager_ID: string, Line_Manager_First_Name: string, Line_Manager_Surname: string, Grade: string, FTE: string, FTE_Count: string, Last_Performance_Year_Rating: string, Last_Performance_Year: string, Last_Performance_Year_-1_Rating: string, Last_Performance_Year_-1: string, GBP_Salary_Element_(SUM): string, GBP_FTE_Salary_Element_(SUM): string, Local_Currency: string, Local_Salary_(SUM): string, Bonus: string]"
      ]
     },
     "execution_count": 5,
     "metadata": {},
     "output_type": "execute_result"
    }
   ],
   "source": [
    "get_spark_blob(account_name, account_key).read.format('csv').option('header', 'true').load('wasb://qbdata@XYZ.blob.core.windows.net/data/01_raw/HR/20180314/')"
   ]
  },
  {
   "cell_type": "code",
   "execution_count": null,
   "metadata": {
    "collapsed": true
   },
   "outputs": [],
   "source": []
  },
  {
   "cell_type": "code",
   "execution_count": 1,
   "metadata": {
    "collapsed": true
   },
   "outputs": [],
   "source": [
    "spark.conf.set(\"fs.azure.account.key.XYZ.blob.core.windows.net\", \"AccessKey\")\n",
    "spark.conf.set(\"fs.wasb.impl\",\"org.apache.hadoop.fs.azure.NativeAzureFileSystem\")"
   ]
  },
  {
   "cell_type": "code",
   "execution_count": 2,
   "metadata": {
    "collapsed": true
   },
   "outputs": [],
   "source": [
    "from pyspark.sql.functions import *\n",
    "from pyspark.sql.types import *\n",
    "import pandas"
   ]
  },
  {
   "cell_type": "code",
   "execution_count": 3,
   "metadata": {
    "collapsed": true
   },
   "outputs": [],
   "source": [
    "df = spark.read.parquet(\"wasb://DATA@XYZ.blob.core.windows.net/data/03_primary/product_jan_18/parquet/201804091123/\")"
   ]
  },
  {
   "cell_type": "code",
   "execution_count": 4,
   "metadata": {},
   "outputs": [
    {
     "name": "stdout",
     "output_type": "stream",
     "text": [
      "root\n",
      " |-- mask_custid: long (nullable = true)\n",
      " |-- acckey: long (nullable = true)\n",
      " |-- REF_DATE: string (nullable = true)\n",
      " |-- BUSINESS_DATE: string (nullable = true)\n",
      " |-- TCP_SIC92: integer (nullable = true)\n",
      " |-- TCP_SIC92_DESC: string (nullable = true)\n",
      " |-- REPORT_LINE_L5_CODE: string (nullable = true)\n",
      " |-- REPORT_LINE_L6_CODE: string (nullable = true)\n",
      " |-- REPORT_LINE_L7_CODE: string (nullable = true)\n",
      " |-- REPORT_LINE_L5_NAME: string (nullable = true)\n",
      " |-- REPORT_LINE_L6_NAME: string (nullable = true)\n",
      " |-- REPORT_LINE_L7_NAME: string (nullable = true)\n",
      " |-- FI_OR_MI: string (nullable = true)\n",
      " |-- TRAD_TRADE_ID: long (nullable = true)\n",
      " |-- BOOK_CODE: string (nullable = true)\n",
      " |-- PRS_CODE: string (nullable = true)\n",
      " |-- PRS_CODE_DESCRIPTION: string (nullable = true)\n",
      " |-- SOURCE_KEY: string (nullable = true)\n",
      " |-- WALKER_GL: integer (nullable = true)\n",
      " |-- ACBS_LINE_NUMBER: string (nullable = true)\n",
      " |-- ACBS_FEE_TYPE: string (nullable = true)\n",
      " |-- ACBS_CIS_CODE: string (nullable = true)\n",
      " |-- ACBS_SIC_CODE: integer (nullable = true)\n",
      " |-- ACBS_COMMITTED_MARKER: string (nullable = true)\n",
      " |-- ACBS_EXPIRY_DATE: string (nullable = true)\n",
      " |-- ACBS_UNIT_ID: string (nullable = true)\n",
      " |-- ACBS_PRODUCT_OWNERSHIP: string (nullable = true)\n",
      " |-- ACBS_FACILITY_LIMIT_AMOUNT: double (nullable = true)\n",
      " |-- GROUP_TYPE: integer (nullable = true)\n",
      " |-- BANK_ID: integer (nullable = true)\n",
      " |-- BANK_CODE: string (nullable = true)\n",
      " |-- BANK_DESCRIPTION: string (nullable = true)\n",
      " |-- SEGMENT_CODE: string (nullable = true)\n",
      " |-- ACCOUNT_OPEN_DATE: string (nullable = true)\n",
      " |-- ACCOUNT_PURPOSE_CODE: integer (nullable = true)\n",
      " |-- BAD_DEBT_INDICATOR: string (nullable = true)\n",
      " |-- BAD_DEBT_DESCRIPTION: string (nullable = true)\n",
      " |-- IFRS_ACCOUNT_YN: string (nullable = true)\n",
      " |-- INCENTIVE_PRODUCT_YN: string (nullable = true)\n",
      " |-- BUSINESS_AREA: string (nullable = true)\n",
      " |-- AGREE_NUMBER: string (nullable = true)\n",
      " |-- AFEES: double (nullable = true)\n",
      " |-- ACR_BALANCE: double (nullable = true)\n",
      " |-- ACR_BALANCE_AVERAGE: double (nullable = true)\n",
      " |-- CREDIT_NII_BASE: double (nullable = true)\n",
      " |-- CREDIT_NII_NONBASE: double (nullable = true)\n",
      " |-- ADR_BALANCE: double (nullable = true)\n",
      " |-- ADR_BALANCE_AVERAGE: double (nullable = true)\n",
      " |-- DEBIT_NII_BASE: double (nullable = true)\n",
      " |-- DEBIT_NII_NONBASE: double (nullable = true)\n",
      " |-- AFEES_2: double (nullable = true)\n",
      " |-- INCOME_BASE: double (nullable = true)\n",
      " |-- INCOME_NONBASE: double (nullable = true)\n",
      " |-- AINTEREST_PAYABLE: double (nullable = true)\n",
      " |-- AINTEREST_RECEIVABLE: double (nullable = true)\n",
      " |-- ANOTIONAL_ALLOWANCE_BASE: double (nullable = true)\n",
      " |-- ANOTIONAL_ALLOWANCE_NONBASE: double (nullable = true)\n",
      " |-- ANOTIONAL_CHARGE_BASE: double (nullable = true)\n",
      " |-- ANOTIONAL_CHARGE_NONBASE: double (nullable = true)\n",
      " |-- NOTIONAL_ALLOWANCE_GFTP: double (nullable = true)\n",
      " |-- NOTIONAL_CHARGE_GFTP: double (nullable = true)\n",
      " |-- DR_NII_GFTP: double (nullable = true)\n",
      " |-- CR_NII_GFTP: double (nullable = true)\n",
      " |-- INCOME_GFTP: double (nullable = true)\n",
      " |-- DEAL_START_DATE: date (nullable = true)\n",
      " |-- DEAL_MATURITY_DATE: date (nullable = true)\n",
      " |-- DEAL_CURRENCY: string (nullable = true)\n",
      " |-- ACCOUNT_CLOSED_DATE: string (nullable = true)\n",
      " |-- DEBIT_MARGIN_RATE: double (nullable = true)\n",
      "\n"
     ]
    }
   ],
   "source": [
    "df.printSchema()"
   ]
  },
  {
   "cell_type": "code",
   "execution_count": 8,
   "metadata": {},
   "outputs": [
    {
     "name": "stdout",
     "output_type": "stream",
     "text": [
      "+---------+-------------+\n",
      "| REF_DATE|BUSINESS_DATE|\n",
      "+---------+-------------+\n",
      "|01FEB2017|    28FEB2017|\n",
      "|01JAN2018|    31JAN2018|\n",
      "|01JAN2017|    31JAN2017|\n",
      "|01AUG2017|    31AUG2017|\n",
      "|01NOV2017|    30NOV2017|\n",
      "|01MAR2017|    31MAR2017|\n",
      "|01MAY2017|    31MAY2017|\n",
      "|01SEP2017|    30SEP2017|\n",
      "|01APR2017|    30APR2017|\n",
      "|01JUN2017|    30JUN2017|\n",
      "|01OCT2017|    31OCT2017|\n",
      "|01DEC2017|    31DEC2017|\n",
      "|01JUL2017|    31JUL2017|\n",
      "+---------+-------------+\n",
      "\n"
     ]
    }
   ],
   "source": [
    "df.select(\"REF_DATE\",\"BUSINESS_DATE\").distinct().show()"
   ]
  },
  {
   "cell_type": "code",
   "execution_count": 4,
   "metadata": {},
   "outputs": [
    {
     "name": "stdout",
     "output_type": "stream",
     "text": [
      "roman_jupyter\r\n"
     ]
    }
   ],
   "source": [
    "!whoami"
   ]
  },
  {
   "cell_type": "code",
   "execution_count": null,
   "metadata": {
    "collapsed": true
   },
   "outputs": [],
   "source": []
  }
 ],
 "metadata": {
  "kernelspec": {
   "display_name": "Python 2 Spark - python",
   "language": "python",
   "name": "spark-python"
  },
  "language_info": {
   "codemirror_mode": {
    "name": "ipython",
    "version": 2
   },
   "file_extension": ".py",
   "mimetype": "text/x-python",
   "name": "python",
   "nbconvert_exporter": "python",
   "pygments_lexer": "ipython2",
   "version": "2.7.11"
  }
 },
 "nbformat": 4,
 "nbformat_minor": 2
}
