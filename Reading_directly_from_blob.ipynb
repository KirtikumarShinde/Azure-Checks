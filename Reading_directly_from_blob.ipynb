{
 "cells": [
  {
   "cell_type": "code",
   "execution_count": 14,
   "metadata": {
    "collapsed": true
   },
   "outputs": [],
   "source": [
    "spark.conf.set(\"fs.azure.account.key.qbsecstorage.blob.core.windows.net\", \"3CUkUfpScv2RctZKth4t/iZPPk6DJa2935jZtyjpLWJSjnNm8/dDfgWnR+5d0w9RU2AIucoUAiU1ZIFWXzbkVw==\")\n",
    "spark.conf.set(\"fs.wasb.impl\",\"org.apache.hadoop.fs.azure.NativeAzureFileSystem\")"
   ]
  },
  {
   "cell_type": "code",
   "execution_count": 66,
   "metadata": {
    "collapsed": true
   },
   "outputs": [],
   "source": [
    "stg_accnt_nm = \"qbsecstorage\"\n",
    "cntnr_nm = \"qbdata\"\n",
    "prefix =\"data/03_primary\"\n",
    "accnt_key = \"3CUkUfpScv2RctZKth4t/iZPPk6DJa2935jZtyjpLWJSjnNm8/dDfgWnR+5d0w9RU2AIucoUAiU1ZIFWXzbkVw==\""
   ]
  },
  {
   "cell_type": "code",
   "execution_count": 59,
   "metadata": {
    "collapsed": true
   },
   "outputs": [],
   "source": [
    "from azure.storage.blob import BlockBlobService\n",
    "from pyspark.sql.functions import *\n",
    "from pyspark.sql.types import *\n",
    "import pandas"
   ]
  },
  {
   "cell_type": "code",
   "execution_count": 68,
   "metadata": {},
   "outputs": [],
   "source": [
    "def list_layer_tables(stg_accnt_nm, cntnr_nm, prefix, accnt_key):\n",
    "    blob_service = BlockBlobService(account_name=stg_accnt_nm, account_key=accnt_key)\n",
    "    generator = blob_service.list_blobs(container_name=cntnr_nm, prefix=prefix) \n",
    "    items=[x.name for x in generator if \"parquet\" not in x.name]\n",
    "    return items"
   ]
  },
  {
   "cell_type": "code",
   "execution_count": 70,
   "metadata": {},
   "outputs": [
    {
     "data": {
      "text/plain": [
       "['data/03_primary/HR_RM_portfolio_changes',\n",
       " 'data/03_primary/complaints',\n",
       " 'data/03_primary/complaints_case',\n",
       " 'data/03_primary/complaints_issue',\n",
       " 'data/03_primary/crm_business_review',\n",
       " 'data/03_primary/crm_customer_channel',\n",
       " 'data/03_primary/crm_gift_and_entertainment',\n",
       " 'data/03_primary/crm_phone_call',\n",
       " 'data/03_primary/customer_all',\n",
       " 'data/03_primary/customer_location',\n",
       " 'data/03_primary/customer_lookup_new',\n",
       " 'data/03_primary/customer_segmentation',\n",
       " 'data/03_primary/customer_segmentation_LCS',\n",
       " 'data/03_primary/gift_and_entertainment',\n",
       " 'data/03_primary/nba',\n",
       " 'data/03_primary/product/20180716143800',\n",
       " 'data/03_primary/product_holding',\n",
       " 'data/03_primary/product_jan_18',\n",
       " 'data/03_primary/product_library',\n",
       " 'data/03_primary/risk_indicator',\n",
       " 'data/03_primary/sales_rm_lombard_meeting',\n",
       " 'data/03_primary/sales_rm_lombard_nb',\n",
       " 'data/03_primary/sales_rm_rbsif',\n",
       " 'data/03_primary/sales_rm_ts',\n",
       " 'data/03_primary/travel_and_entertainment',\n",
       " 'data/03_primary/travel_and_expens',\n",
       " 'data/03_primary/travel_and_expense',\n",
       " 'data/03_primary/uk_postcode']"
      ]
     },
     "execution_count": 70,
     "metadata": {},
     "output_type": "execute_result"
    }
   ],
   "source": [
    "list_layer_tables(stg_accnt_nm,cntnr_nm,prefix,accnt_key)"
   ]
  },
  {
   "cell_type": "code",
   "execution_count": null,
   "metadata": {
    "collapsed": true
   },
   "outputs": [],
   "source": []
  }
 ],
 "metadata": {
  "kernelspec": {
   "display_name": "Python 3 Spark - local",
   "language": "python",
   "name": "spark-3-python"
  },
  "language_info": {
   "codemirror_mode": {
    "name": "ipython",
    "version": 3
   },
   "file_extension": ".py",
   "mimetype": "text/x-python",
   "name": "python",
   "nbconvert_exporter": "python",
   "pygments_lexer": "ipython3",
   "version": "3.5.2"
  }
 },
 "nbformat": 4,
 "nbformat_minor": 2
}
