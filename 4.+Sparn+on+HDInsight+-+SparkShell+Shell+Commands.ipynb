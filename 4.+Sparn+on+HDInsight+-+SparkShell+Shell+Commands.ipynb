{
 "cells": [
  {
   "cell_type": "code",
   "execution_count": null,
   "metadata": {
    "collapsed": true
   },
   "outputs": [],
   "source": [
    "# This is test to be done on Linux DSVM on the command line - to see if you can fire up SPARK-SHELL on the YARN HDInsight\n",
    "# This notebook can not be run here - needs to be run from Linux DSVM shell"
   ]
  },
  {
   "cell_type": "code",
   "execution_count": null,
   "metadata": {
    "collapsed": true
   },
   "outputs": [],
   "source": [
    "export HDP_VERSION=2.6.5.8-7\n",
    "export SPARK_HOME=/usr/hdp/current/spark2-client\n",
    "export HADOOP_HOME=/usr/hdp/2.6.5.8-7/hadoop\n",
    "export _HADOOP_LZO_JAR=/usr/hdp/2.6.5.8-7/hadoop/lib/hadoop-lzo-0.6.0.2.6.5.8-7.jar\n",
    "export SPARK_CONF_DIR=/usr/hdp/current/spark2-client/conf\n",
    "export PYSPARK_PYTHON=/anaconda/envs/py35/bin/python\n",
    "export SPARK_MAJOR_VERSION=2\n",
    "export JAVA_HOME=/usr/lib/jvm/java-8-openjdk-amd64\n",
    "export HADOOP_CONF_DIR=/etc/hadoop/conf\n",
    "export SPARK_DIST_CLASSPATH=/usr/hdp/current/spark2-client/jars/*:/usr/lib/hdinsight-datalake/*:/usr/hdp/current/spark_llap/*:/usr/hdp/current/spark2-client/conf:\n",
    "export AZURE_SPARK=1"
   ]
  },
  {
   "cell_type": "code",
   "execution_count": null,
   "metadata": {
    "collapsed": true
   },
   "outputs": [],
   "source": [
    "spark-shell --master=yarn"
   ]
  },
  {
   "cell_type": "code",
   "execution_count": null,
   "metadata": {
    "collapsed": true
   },
   "outputs": [],
   "source": [
    "pyspark-shell --master=yarn"
   ]
  }
 ],
 "metadata": {
  "kernelspec": {
   "display_name": "Python 3 Spark - local",
   "language": "python",
   "name": "spark-3-python"
  },
  "language_info": {
   "codemirror_mode": {
    "name": "ipython",
    "version": 3
   },
   "file_extension": ".py",
   "mimetype": "text/x-python",
   "name": "python",
   "nbconvert_exporter": "python",
   "pygments_lexer": "ipython3",
   "version": "3.5.2"
  }
 },
 "nbformat": 4,
 "nbformat_minor": 2
}
