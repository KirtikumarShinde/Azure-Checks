{
 "cells": [
  {
   "cell_type": "code",
   "execution_count": 6,
   "metadata": {
    "collapsed": true
   },
   "outputs": [],
   "source": [
    "# Code is not working here - but it works with spark-submit"
   ]
  },
  {
   "cell_type": "code",
   "execution_count": 7,
   "metadata": {
    "collapsed": true
   },
   "outputs": [],
   "source": [
    "# Set environment variables\n",
    "import os\n",
    "os.environ['AZURE_SPARK'] ='1'\n",
    "os.environ['SPARK_MAJOR_VERSION'] ='2'\n",
    "os.environ['HDP_VERSION'] ='2.6.5.8-7'\n",
    "os.environ['JAVA_HOME'] ='/usr/lib/jvm/java-8-openjdk-amd64'\n",
    "os.environ['SPARK_HOME'] ='/usr/hdp/current/spark2-client'\n",
    "os.environ['HADOOP_HOME'] ='/usr/hdp/2.6.5.8-7/hadoop'\n",
    "os.environ['HADOOP_CONF_DIR'] ='/etc/hadoop/conf'\n",
    "os.environ['SPARK_CONF_DIR'] ='/usr/hdp/current/spark2-client/conf'\n",
    "os.environ['PYSPARK_PYTHON'] ='/anaconda/envs/py35/bin/python'\n",
    "os.environ['SPARK_DIST_CLASSPATH'] =':/usr/hdp/current/spark2-client/jars/*:/usr/lib/hdinsight-datalake/*:/usr/hdp/current/spark_llap/*:/usr/hdp/current/spark2-client/conf:'\n",
    "os.environ['LD_LIBRARY_PATH'] ='/usr/hdp/current/hadoop-client/lib/native:/usr/hdp/current/hadoop-client/lib/native/Linux-amd64-64'\n",
    "os.environ['_HADOOP_LZO_JAR'] ='/usr/hdp/2.6.5.8-7/hadoop/lib/hadoop-lzo-0.6.0.2.6.5.8-7.jar'"
   ]
  },
  {
   "cell_type": "code",
   "execution_count": 8,
   "metadata": {},
   "outputs": [],
   "source": [
    "#Important step - Find the spark configuration\n",
    "import findspark\n",
    "findspark.init()"
   ]
  },
  {
   "cell_type": "code",
   "execution_count": 9,
   "metadata": {},
   "outputs": [],
   "source": [
    "from pyspark.sql import SparkSession\n",
    "spark = SparkSession.builder \\\n",
    "        .appName(\"test-from-jupyter\") \\\n",
    "        .master(\"yarn\") \\\n",
    "        .config(\"fs.azure.account.key.qbsecstorage.blob.core.windows.net\", \\\n",
    "                \"3CUkUfpScv2RctZKth4t/iZPPk6DJa2935jZtyjpLWJSjnNm8/dDfgWnR+5d0w9RU2AIucoUAiU1ZIFWXzbkVw==\") \\\n",
    "        .getOrCreate()"
   ]
  },
  {
   "cell_type": "code",
   "execution_count": 10,
   "metadata": {},
   "outputs": [],
   "source": [
    "df = spark.read.parquet(\"wasb://qbdata@qbsecstorage.blob.core.windows.net/data/03_primary/product_jan_18/parquet/201804091123/\")"
   ]
  },
  {
   "cell_type": "code",
   "execution_count": 11,
   "metadata": {},
   "outputs": [
    {
     "name": "stdout",
     "output_type": "stream",
     "text": [
      "root\n",
      " |-- mask_custid: long (nullable = true)\n",
      " |-- acckey: long (nullable = true)\n",
      " |-- REF_DATE: string (nullable = true)\n",
      " |-- BUSINESS_DATE: string (nullable = true)\n",
      " |-- TCP_SIC92: integer (nullable = true)\n",
      " |-- TCP_SIC92_DESC: string (nullable = true)\n",
      " |-- REPORT_LINE_L5_CODE: string (nullable = true)\n",
      " |-- REPORT_LINE_L6_CODE: string (nullable = true)\n",
      " |-- REPORT_LINE_L7_CODE: string (nullable = true)\n",
      " |-- REPORT_LINE_L5_NAME: string (nullable = true)\n",
      " |-- REPORT_LINE_L6_NAME: string (nullable = true)\n",
      " |-- REPORT_LINE_L7_NAME: string (nullable = true)\n",
      " |-- FI_OR_MI: string (nullable = true)\n",
      " |-- TRAD_TRADE_ID: long (nullable = true)\n",
      " |-- BOOK_CODE: string (nullable = true)\n",
      " |-- PRS_CODE: string (nullable = true)\n",
      " |-- PRS_CODE_DESCRIPTION: string (nullable = true)\n",
      " |-- SOURCE_KEY: string (nullable = true)\n",
      " |-- WALKER_GL: integer (nullable = true)\n",
      " |-- ACBS_LINE_NUMBER: string (nullable = true)\n",
      " |-- ACBS_FEE_TYPE: string (nullable = true)\n",
      " |-- ACBS_CIS_CODE: string (nullable = true)\n",
      " |-- ACBS_SIC_CODE: integer (nullable = true)\n",
      " |-- ACBS_COMMITTED_MARKER: string (nullable = true)\n",
      " |-- ACBS_EXPIRY_DATE: string (nullable = true)\n",
      " |-- ACBS_UNIT_ID: string (nullable = true)\n",
      " |-- ACBS_PRODUCT_OWNERSHIP: string (nullable = true)\n",
      " |-- ACBS_FACILITY_LIMIT_AMOUNT: double (nullable = true)\n",
      " |-- GROUP_TYPE: integer (nullable = true)\n",
      " |-- BANK_ID: integer (nullable = true)\n",
      " |-- BANK_CODE: string (nullable = true)\n",
      " |-- BANK_DESCRIPTION: string (nullable = true)\n",
      " |-- SEGMENT_CODE: string (nullable = true)\n",
      " |-- ACCOUNT_OPEN_DATE: string (nullable = true)\n",
      " |-- ACCOUNT_PURPOSE_CODE: integer (nullable = true)\n",
      " |-- BAD_DEBT_INDICATOR: string (nullable = true)\n",
      " |-- BAD_DEBT_DESCRIPTION: string (nullable = true)\n",
      " |-- IFRS_ACCOUNT_YN: string (nullable = true)\n",
      " |-- INCENTIVE_PRODUCT_YN: string (nullable = true)\n",
      " |-- BUSINESS_AREA: string (nullable = true)\n",
      " |-- AGREE_NUMBER: string (nullable = true)\n",
      " |-- AFEES: double (nullable = true)\n",
      " |-- ACR_BALANCE: double (nullable = true)\n",
      " |-- ACR_BALANCE_AVERAGE: double (nullable = true)\n",
      " |-- CREDIT_NII_BASE: double (nullable = true)\n",
      " |-- CREDIT_NII_NONBASE: double (nullable = true)\n",
      " |-- ADR_BALANCE: double (nullable = true)\n",
      " |-- ADR_BALANCE_AVERAGE: double (nullable = true)\n",
      " |-- DEBIT_NII_BASE: double (nullable = true)\n",
      " |-- DEBIT_NII_NONBASE: double (nullable = true)\n",
      " |-- AFEES_2: double (nullable = true)\n",
      " |-- INCOME_BASE: double (nullable = true)\n",
      " |-- INCOME_NONBASE: double (nullable = true)\n",
      " |-- AINTEREST_PAYABLE: double (nullable = true)\n",
      " |-- AINTEREST_RECEIVABLE: double (nullable = true)\n",
      " |-- ANOTIONAL_ALLOWANCE_BASE: double (nullable = true)\n",
      " |-- ANOTIONAL_ALLOWANCE_NONBASE: double (nullable = true)\n",
      " |-- ANOTIONAL_CHARGE_BASE: double (nullable = true)\n",
      " |-- ANOTIONAL_CHARGE_NONBASE: double (nullable = true)\n",
      " |-- NOTIONAL_ALLOWANCE_GFTP: double (nullable = true)\n",
      " |-- NOTIONAL_CHARGE_GFTP: double (nullable = true)\n",
      " |-- DR_NII_GFTP: double (nullable = true)\n",
      " |-- CR_NII_GFTP: double (nullable = true)\n",
      " |-- INCOME_GFTP: double (nullable = true)\n",
      " |-- DEAL_START_DATE: date (nullable = true)\n",
      " |-- DEAL_MATURITY_DATE: date (nullable = true)\n",
      " |-- DEAL_CURRENCY: string (nullable = true)\n",
      " |-- ACCOUNT_CLOSED_DATE: string (nullable = true)\n",
      " |-- DEBIT_MARGIN_RATE: double (nullable = true)\n",
      "\n"
     ]
    }
   ],
   "source": [
    "df.printSchema()"
   ]
  },
  {
   "cell_type": "code",
   "execution_count": null,
   "metadata": {
    "collapsed": true
   },
   "outputs": [],
   "source": []
  }
 ],
 "metadata": {
  "kernelspec": {
   "display_name": "Python 3",
   "language": "python",
   "name": "python3"
  },
  "language_info": {
   "codemirror_mode": {
    "name": "ipython",
    "version": 3
   },
   "file_extension": ".py",
   "mimetype": "text/x-python",
   "name": "python",
   "nbconvert_exporter": "python",
   "pygments_lexer": "ipython3",
   "version": "3.5.2"
  }
 },
 "nbformat": 4,
 "nbformat_minor": 2
}
